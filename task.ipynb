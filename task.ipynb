{
 "cells": [
  {
   "cell_type": "code",
   "execution_count": null,
   "metadata": {
    "tags": []
   },
   "outputs": [],
   "source": [
    "!pip install numpy==1.21.4\n",
    "!pip install opencv-python\n",
    "!pip install dlib\n",
    "!pip install matplotlib\n",
    "!pip install Pillow --upgrade\n",
    "!pip install librosa\n",
    "!pip install numba==0.53\n",
    "!pip install opensmile\n",
    "!pip install PyYAML==5.4.1\n",
    "!pip install sox\n",
    "!pip install sklearn\n"
   ]
  },
  {
   "cell_type": "code",
   "execution_count": 1,
   "metadata": {},
   "outputs": [
    {
     "name": "stdout",
     "output_type": "stream",
     "text": [
      "/home/shemetov@ad.speechpro.com/.local/lib/python3.8/site-packages/pkg_resources/__init__.py:122: PkgResourcesDeprecationWarning: 0.1.36ubuntu1 is an invalid version and will not be supported in a future release\n",
      "  warnings.warn(\n",
      "/home/shemetov@ad.speechpro.com/.local/lib/python3.8/site-packages/pkg_resources/__init__.py:122: PkgResourcesDeprecationWarning: 0.23ubuntu1 is an invalid version and will not be supported in a future release\n",
      "  warnings.warn(\n",
      "Requirement already satisfied: opencv-contrib-python in /home/shemetov@ad.speechpro.com/.local/lib/python3.8/site-packages (4.6.0.66)\n",
      "Requirement already satisfied: numpy>=1.14.5; python_version >= \"3.7\" in /home/shemetov@ad.speechpro.com/.local/lib/python3.8/site-packages (from opencv-contrib-python) (1.21.4)\n"
     ]
    }
   ],
   "source": [
    "!pip install opencv-contrib-python"
   ]
  },
  {
   "cell_type": "code",
   "execution_count": null,
   "metadata": {},
   "outputs": [],
   "source": [
    "%reload_ext tensorboard\n",
    "%tensorboard --logdir lightning_logs"
   ]
  },
  {
   "cell_type": "code",
   "execution_count": null,
   "metadata": {},
   "outputs": [],
   "source": [
    "import matplotlib.pyplot as plt\n",
    "import cv2\n",
    "import numpy as np\n",
    "from tqdm import tqdm\n",
    "import logging\n",
    "import threading\n",
    "import pandas as pd\n",
    "import torch.nn.functional as F\n",
    "import torchaudio.transforms as T\n",
    "import time\n",
    "from IPython.display import display, Image\n",
    "import ipywidgets as widgets\n",
    "import threading\n",
    "import concurrent.futures\n",
    "from PIL import Image\n",
    "import os\n",
    "import glob\n",
    "import re\n",
    "from sklearn.preprocessing import StandardScaler\n",
    "import librosa\n",
    "import sklearn\n",
    "import torch\n",
    "import torchaudio\n",
    "import torch.utils.data\n",
    "import torch.nn as nn\n",
    "import librosa.display\n",
    "import librosa.filters\n",
    "import IPython.display as ipd\n",
    "from sklearn.metrics import classification_report, confusion_matrix\n",
    "import opensmile\n",
    "from sklearn.model_selection import train_test_split\n",
    "from platform import python_version\n",
    "torch.manual_seed(20)"
   ]
  },
  {
   "cell_type": "code",
   "execution_count": 2,
   "metadata": {},
   "outputs": [],
   "source": [
    "set_of_classes = ['SAD','NEU','HAP','FEA','DIS','ANG']\n",
    "\n",
    "            "
   ]
  },
  {
   "cell_type": "code",
   "execution_count": 253,
   "metadata": {},
   "outputs": [
    {
     "data": {
      "image/png": "[encoded data removed]",
      "text/plain": [
       "<Figure size 432x288 with 1 Axes>"
      ]
     },
     "metadata": {
      "needs_background": "light"
     },
     "output_type": "display_data"
    },
    {
     "data": {
      "image/png": "[encoded data removed]",
      "text/plain": [
       "<Figure size 432x288 with 1 Axes>"
      ]
     },
     "metadata": {
      "needs_background": "light"
     },
     "output_type": "display_data"
    },
    {
     "data": {
      "image/png": "[encoded data removed]",
      "text/plain": [
       "<Figure size 432x288 with 1 Axes>"
      ]
     },
     "metadata": {
      "needs_background": "light"
     },
     "output_type": "display_data"
    }
   ],
   "source": [
    "\n",
    "#static_analyze\n",
    "dct_classes = {'SAD':0,'NEU':0,'HAP':0,'FEA':0,'DIS':0,'ANG':0}\n",
    "fig1, ax1 = plt.subplots()\n",
    "\n",
    "for file_path in set_of_classes:\n",
    "    list_of_files = sorted(glob.glob('./CREMA-D/VideoFlash/*' + file_path + '*.flv'))\n",
    "    dct_classes[file_path] = len(list_of_files)\n",
    "ax1.bar(dct_classes.keys(), dct_classes.values())\n",
    "ax1.set_title(\"Count video in each class emotions\")\n",
    "\n",
    "fig2, ax2 = plt.subplots()\n",
    "\n",
    "for file_path in set_of_classes:\n",
    "    list_of_files = sorted(glob.glob('./CREMA-D/AudioClass/' + file_path + '/*.wav'))\n",
    "    dct_classes[file_path] = len(list_of_files)\n",
    "ax2.bar(dct_classes.keys(), dct_classes.values())\n",
    "ax2.set_title(\"Count audio in each class emotions\")\n",
    "\n",
    "\n",
    "fig3, ax3 = plt.subplots()\n",
    "dct_avg_len_of_videos = {'SAD':0,'NEU':0,'HAP':0,'FEA':0,'DIS':0,'ANG':0}\n",
    "for file_path in set_of_classes:\n",
    "    list_of_files = sorted(glob.glob('./CREMA-D/VideoFlash/*' + file_path + '*.flv'))\n",
    "    sum_var = 0\n",
    "    for video_path in list_of_files:\n",
    "        cap = cv2.VideoCapture(video_path)\n",
    "        fps = cap.get(cv2.CAP_PROP_FPS)      # OpenCV2 version 2 used \"CV_CAP_PROP_FPS\"\n",
    "        frame_count = int(cap.get(cv2.CAP_PROP_FRAME_COUNT))\n",
    "        duration = frame_count/fps\n",
    "        seconds = duration%60\n",
    "        sum_var += seconds\n",
    "    dct_avg_len_of_videos[file_path] = round(sum_var / len(list_of_files),3)\n",
    "\n",
    "ax3.bar(dct_avg_len_of_videos.keys(), dct_avg_len_of_videos.values())\n",
    "ax3.set_title(\"Average duration video in each class emotions\")\n",
    "\n",
    "\n",
    "\n",
    "cap.release()\n"
   ]
  },
  {
   "cell_type": "code",
   "execution_count": null,
   "metadata": {},
   "outputs": [],
   "source": [
    "#Cut video on images and save in folders\n",
    "for file_path in set_of_classes:\n",
    "    list_of_files = sorted(glob.glob('./CREMA-D/VideoFlash/*' + file_path + '*.flv'))\n",
    "    count = 0\n",
    "    for video_path in list_of_files:\n",
    "        order_var = re.findall(r'\\d{1,5}',video_path)[0]\n",
    "        cap = cv2.VideoCapture(video_path)\n",
    "        success,image = cap.read()\n",
    "        while success:\n",
    "            #print(\"CREMA-D/ImageClass/\" + file_path + \"/\" + order_var + \"_frame%d.jpg\" % count)\n",
    "            cv2.imwrite(\"CREMA-D/ImageClass/\" + file_path + \"/\" + order_var + \"_frame%d.jpg\" % count, image)\n",
    "            success,image = cap.read()\n",
    "            count += 1"
   ]
  },
  {
   "cell_type": "code",
   "execution_count": null,
   "metadata": {},
   "outputs": [],
   "source": [
    "#Face Recognation with HAAD Cascade\n",
    "for file_path in set_of_classes:\n",
    "    list_of_files = sorted(glob.glob('./CREMA-D/ImageClass/' + file_path + '/*.jpg'))\n",
    "    count = 0\n",
    "    for image_path in list_of_files:\n",
    "        order_var = re.findall(r'\\d{1,5}',image_path)[0]\n",
    "        image = cv2.imread(image_path)\n",
    "        gray = cv2.cvtColor(image, cv2.COLOR_BGR2GRAY)\n",
    "        \n",
    "        faceCascade = cv2.CascadeClassifier(cv2.data.haarcascades + \"haarcascade_frontalface_default.xml\")\n",
    "        face = faceCascade.detectMultiScale(\n",
    "                gray,\n",
    "                scaleFactor=1.2,\n",
    "                minNeighbors=6,\n",
    "                minSize=(30, 30)\n",
    "        )\n",
    "\n",
    "        if len(face) != 0:\n",
    "            x, y, w, h = face[0]\n",
    "        gray_color = gray[y:y + h, x:x + w]\n",
    "        res = cv2.resize(gray_color,(128,128))\n",
    "        #gray = cv2.cvtColor(roi_color, cv2.COLOR_BGR2GRAY)\n",
    "        cv2.imwrite(\"CREMA-D/FaceClass/\" + file_path + \"/\" + order_var + \"_frame%d.jpg\" % count, res)\n",
    "        count += 1\n",
    "        #display(Image.fromarray(res))\n",
    "        "
   ]
  },
  {
   "cell_type": "markdown",
   "metadata": {},
   "source": [
    "SIFT признаки"
   ]
  },
  {
   "cell_type": "code",
   "execution_count": 6,
   "metadata": {},
   "outputs": [],
   "source": [
    "#Create Dataset with SIFT features for pytorch \n",
    "class ImageDatasetSIFT(torch.utils.data.Dataset):\n",
    "    def __init__(self,dir_paths = None, labels=None, le = None):\n",
    "        super(ImageDatasetSIFT, self).__init__()\n",
    "        self.dir_paths = dir_paths\n",
    "        self.labels = labels\n",
    "        self.image_files = []\n",
    "        self.set_of_labels = []\n",
    "        if self.labels is not None:\n",
    "            for label in self.labels:\n",
    "                images_path = glob.glob(self.dir_paths + label + '/*.jpg')[0:10000]\n",
    "                for image_path in tqdm(images_path):\n",
    "                    gray_image = cv2.imread(image_path,cv2.IMREAD_GRAYSCALE)\n",
    "                    sift = cv2.SIFT_create(20)\n",
    "                    _,des = sift.detectAndCompute(gray_image,None)\n",
    "                    \n",
    "                    if (des is None) or len(des) !=20:\n",
    "                        continue\n",
    "                    else:\n",
    "                        self.image_files.append(des)\n",
    "                len_image_files = len(self.image_files)\n",
    "                label = list(le.transform([label]))\n",
    "                self.set_of_labels += label * len_image_files\n",
    "                #self.image_files += images_path\n",
    "                \n",
    "            \n",
    "    def __getitem__(self, index):\n",
    "        label = self.set_of_labels[index]\n",
    "        des = self.image_files[index]\n",
    "        feature = F.normalize(torch.FloatTensor(np.array([des[0:20]])),p=2.0)\n",
    "        return feature, label\n",
    "\n",
    "    def __len__(self):\n",
    "        return len(self.image_files)"
   ]
  },
  {
   "cell_type": "code",
   "execution_count": 7,
   "metadata": {},
   "outputs": [
    {
     "name": "stderr",
     "output_type": "stream",
     "text": [
      "100%|██████████| 10000/10000 [00:24<00:00, 409.82it/s]\n",
      "100%|██████████| 10000/10000 [00:24<00:00, 411.05it/s]\n",
      "100%|██████████| 10000/10000 [00:24<00:00, 410.98it/s]\n",
      "100%|██████████| 10000/10000 [00:24<00:00, 410.18it/s]\n",
      "100%|██████████| 10000/10000 [00:24<00:00, 410.77it/s]\n",
      "100%|██████████| 10000/10000 [00:24<00:00, 409.99it/s]"
     ]
    },
    {
     "name": "stdout",
     "output_type": "stream",
     "text": [
      "49612\n",
      "49611\n",
      "torch.Size([1, 20, 128])\n"
     ]
    },
    {
     "name": "stderr",
     "output_type": "stream",
     "text": [
      "\n"
     ]
    }
   ],
   "source": [
    "#Create traind and test.\n",
    "extractor = None\n",
    "le = sklearn.preprocessing.LabelEncoder()\n",
    "le = le.fit(set_of_classes)\n",
    "dir_path = '/home/shemetov@ad.speechpro.com/Desktop/testpy/CREMA-D/FaceClass/'\n",
    "\n",
    "data_sift = ImageDatasetSIFT(dir_paths=dir_path,labels=set_of_classes,le=le)\n",
    "print(len(data_sift))\n",
    "print(int(len(data_sift) * 0.8) + int(len(data_sift) * 0.2))\n",
    "print(np.shape(next(iter(data_sift))[0]))"
   ]
  },
  {
   "cell_type": "code",
   "execution_count": 8,
   "metadata": {},
   "outputs": [],
   "source": [
    "train_sift, test_sift = torch.utils.data.random_split(data_sift,[int(len(data_sift) * 0.8),int(len(data_sift) * 0.2)+1])\n",
    "train_set_sift = torch.utils.data.DataLoader(train_sift, batch_size=32, shuffle=True)\n",
    "test_set_sift = torch.utils.data.DataLoader(test_sift, batch_size=32, shuffle=False)"
   ]
  },
  {
   "cell_type": "code",
   "execution_count": 46,
   "metadata": {},
   "outputs": [],
   "source": [
    "class CNNSIFT(nn.Module):\n",
    "    def __init__(self, in_channels = 1, out_channels = 128, kernel_size = 5):\n",
    "        super().__init__()\n",
    "        self.conv1 = nn.Conv2d(in_channels, out_channels, kernel_size)\n",
    "        self.bn1 = nn.BatchNorm2d(out_channels)\n",
    "        self.pool = nn.MaxPool2d(2, 2)\n",
    "        self.dp1 = nn.Dropout2d()\n",
    "        self.conv2 = nn.Conv2d(out_channels, out_channels * 2, 5)\n",
    "        #self.pool = nn.MaxPool2d(2, 2)\n",
    "        self.bn2 = nn.BatchNorm2d(out_channels * 2)\n",
    "        self.dp2 = nn.Dropout2d()\n",
    "        self.fc1 = nn.Linear(14848, 64)\n",
    "        self.fc2 = nn.Linear(64, 40)\n",
    "        self.fc3 = nn.Linear(40, 6)\n",
    "        \n",
    "    def forward(self, x):\n",
    "        x = self.pool(F.relu((self.conv1(x))))\n",
    "        #x = self.dp1(x)\n",
    "        x = self.pool(F.relu((self.conv2(x))))\n",
    "        #x = self.dp2(x)\n",
    "        x = torch.flatten(x, 1) # flatten all dimensions except batch\n",
    "        x = F.relu(self.fc1(x))\n",
    "        x = F.relu(self.fc2(x))\n",
    "        x = self.fc3(x)\n",
    "        return x\n",
    "    \n",
    "device = torch.device(\"cuda\" if torch.cuda.is_available() else \"cpu\")\n",
    "model = CNNSIFT().to(device)"
   ]
  },
  {
   "cell_type": "code",
   "execution_count": 45,
   "metadata": {},
   "outputs": [],
   "source": [
    "#Structure of Model\n",
    "class CNN(nn.Module):\n",
    "    def __init__(self, in_channels = 1,out_channels = 128,kernel_size = 3):\n",
    "        super().__init__()\n",
    "        self.conv1 = nn.Conv2d(in_channels, out_channels, kernel_size)\n",
    "        self.bn1 = nn.BatchNorm2d(out_channels)\n",
    "        self.pool1 = nn.MaxPool2d(2,2)\n",
    "        self.drop1 = nn.Dropout(0.2)\n",
    "        self.conv2 = nn.Conv2d(out_channels, out_channels, 3)\n",
    "        self.pool2 = nn.MaxPool2d(2,2)\n",
    "        self.drop2 = nn.Dropout(0.2)\n",
    "        self.conv3 = nn.Conv2d(out_channels, 2 * out_channels, 3)\n",
    "        self.bn3 = nn.BatchNorm2d(2 * out_channels)\n",
    "        self.drop3 = nn.Dropout(0.2)\n",
    "        self.pool3 = nn.MaxPool2d(2,2)\n",
    "        self.flatten = nn.Flatten()\n",
    "        self.fc1 = nn.Linear(11520, 64)\n",
    "        self.fc2 = nn.Linear(64, 64)\n",
    "        self.fc3 = nn.Linear(64, 6)\n",
    "\n",
    "\n",
    "    def forward(self, x):\n",
    "        x = F.relu(self.pool1(self.conv1(x)))\n",
    "        x = F.relu(self.pool2(self.conv2(x)))\n",
    "        x = self.flatten(x)\n",
    "        x = F.relu(self.fc1(x))\n",
    "        x = self.drop1(x)\n",
    "        x = F.relu(self.fc2(x))\n",
    "        x = self.drop2(x)\n",
    "        x = F.relu(self.fc3(x))\n",
    "        return F.log_softmax(x,dim=1)  \n",
    "\n",
    "device = torch.device(\"cuda\" if torch.cuda.is_available() else \"cpu\")\n",
    "model = CNN().to(device)"
   ]
  },
  {
   "cell_type": "code",
   "execution_count": 47,
   "metadata": {},
   "outputs": [],
   "source": [
    "import torch.optim as optim\n",
    "\n",
    "#Optimization for model\n",
    "criterion = nn.CrossEntropyLoss()\n",
    "optimizer = optim.SGD(model.parameters(), lr=0.001, momentum=0.9)"
   ]
  },
  {
   "cell_type": "code",
   "execution_count": null,
   "metadata": {},
   "outputs": [],
   "source": [
    "from tqdm import tqdm\n",
    "\n",
    "video_features_lbp = []\n",
    "video_pred_lbp = []\n",
    "#Train model\n",
    "for epoch in range(25):\n",
    "    running_loss = 0.0\n",
    "    for i, data in tqdm(enumerate(train_set_sift, 0)):\n",
    "        inputs, labels = data\n",
    "        inputs, labels = inputs.to(device), labels.to(device)\n",
    "        optimizer.zero_grad()\n",
    "\n",
    "        outputs = model(inputs)\n",
    "        loss = criterion(outputs, labels)\n",
    "        loss.backward()\n",
    "        optimizer.step()\n",
    "\n",
    "\n",
    "        running_loss += loss.item()\n",
    "        if i % 1000 == 999: \n",
    "            print(f'[{epoch + 1}, {i + 1:5d}] loss: {running_loss / 1000:.3f}')\n",
    "            running_loss = 0.0\n",
    "    y_pred = None\n",
    "    y_test = None\n",
    "    model.eval()\n",
    "    with torch.no_grad():\n",
    "        for inputs,target in tqdm(test_set_sift):\n",
    "            inputs = inputs.to(device)\n",
    "            output = model(inputs)\n",
    "            video_features_lbp.append(output.cpu())\n",
    "            video_pred_lbp.append(target)\n",
    "            y_preds = output.argmax(dim=-1).to('cpu').detach().numpy()\n",
    "            if y_pred is not None:\n",
    "                y_pred = np.concatenate([y_pred, y_preds])\n",
    "                target  = np.concatenate([y_test, target])\n",
    "            else:\n",
    "                y_pred = y_preds\n",
    "                y_test = target\n",
    "    f1 = sklearn.metrics.f1_score(y_test, y_preds, average='macro')\n",
    "    acc = sklearn.metrics.accuracy_score(y_test, y_preds)\n",
    "    precision = sklearn.metrics.precision_score(y_test, y_preds, average='macro')\n",
    "    recall = sklearn.metrics.recall_score(y_test, y_preds, average='macro')\n",
    "    print('metrics:', acc, f1, precision, recall)\n",
    "\n",
    "print('Finished Training')"
   ]
  },
  {
   "cell_type": "code",
   "execution_count": 72,
   "metadata": {},
   "outputs": [
    {
     "name": "stdout",
     "output_type": "stream",
     "text": [
      "metrics: acc: 0.56 f1: 0.55\n"
     ]
    }
   ],
   "source": [
    "f1 = sklearn.metrics.f1_score(y_test, y_pred, average='macro')\n",
    "acc = sklearn.metrics.accuracy_score(y_test, y_pred)\n",
    "print('metrics:', 'acc:', round(acc,2),'f1:', round(f1,2))\n"
   ]
  },
  {
   "cell_type": "markdown",
   "metadata": {},
   "source": [
    "LBP признак"
   ]
  },
  {
   "cell_type": "code",
   "execution_count": 12,
   "metadata": {},
   "outputs": [],
   "source": [
    "#Create Dataset for pytorch\n",
    "class ImageDataset(torch.utils.data.Dataset):\n",
    "    \"\"\"Some Information about MyDataset\"\"\"\n",
    "    def __init__(self,dir_paths = None, labels=None, le = None,  extractor = None):\n",
    "        super(ImageDataset, self).__init__()\n",
    "        self.dir_paths = dir_paths\n",
    "        self.labels = labels\n",
    "        self.extractor = extractor\n",
    "        self.image_features = []\n",
    "        self.set_of_labels = []\n",
    "        for i in self.dir_paths:\n",
    "            output = pd.read_pickle(i)\n",
    "            self.image_features += output['Features'].values[0][0:int(len(output['Features'].values[0])*0.1)]\n",
    "            self.set_of_labels += list(le.transform(output['Labels'].values[0][0:int(len(output['Labels'].values[0])*0.1)]))\n",
    "\n",
    "                \n",
    "            \n",
    "    def __getitem__(self, index):\n",
    "        label = self.set_of_labels[index]\n",
    "        features = torch.FloatTensor(np.array([self.image_features[index]]))/255\n",
    "        return features, label\n",
    "\n",
    "    def __len__(self):\n",
    "        return len(self.image_features)"
   ]
  },
  {
   "cell_type": "code",
   "execution_count": null,
   "metadata": {},
   "outputs": [],
   "source": [
    "#extract LBP features.Not fast version\n",
    "from tqdm import tqdm\n",
    "from itertools import repeat\n",
    "import concurrent.futures\n",
    "\n",
    "def LBP(img):\n",
    "    arr = np.zeros((len(img),len(img[0])))\n",
    "    img = cv2.copyMakeBorder(img, 1, 1, 1, 1, cv2.BORDER_REFLECT)\n",
    "    img = np.array(img)\n",
    "    for i in range(len(img)-2):\n",
    "        for j in range(len(img[i])-2):\n",
    "            arr[i][j] = (img[i + 1][j + 1] < img[i][j]) * 1 + \\\n",
    "                        (img[i + 1][j + 1] < img[i][j+1]) * 2 + \\\n",
    "                        (img[i + 1][j + 1] < img[i][j+2]) * 4 + \\\n",
    "                        (img[i + 1][j + 1] < img[i+1][j+2]) * 8 + \\\n",
    "                        (img[i + 1][j + 1] < img[i+2][j+2]) * 16 + \\\n",
    "                        (img[i + 1][j + 1] < img[i+2][j+1]) * 32 + \\\n",
    "                        (img[i + 1][j + 1] < img[i+2][j]) * 64 + \\\n",
    "                        (img[i + 1][j + 1] < img[i+1][j]) * 128\n",
    "    return np.uint8(arr)\n",
    "\n",
    "def get_features(file_path):\n",
    "    X_data = []\n",
    "    y_data = []\n",
    "    \n",
    "    for file_path in set_of_classes:\n",
    "        list_of_files = sorted(glob.glob('./CREMA-D/FaceClass/' + file_path + '/*.jpg'))\n",
    "        count = 0\n",
    "        for image_path in list_of_files:\n",
    "            gray = cv2.imread(image_path,cv2.IMREAD_GRAYSCALE)\n",
    "            arr_img = LBP(gray)\n",
    "            display(Image.fromarray(arr_img))\n",
    "            X_data.append(arr_img)\n",
    "            y_data.append(file_path)\n",
    "\n",
    "    return X_data, y_data\n",
    "\n",
    "\n",
    "\n",
    "        \n",
    "with concurrent.futures.ThreadPoolExecutor(max_workers=6) as ex:\n",
    "    SAD_res = ex.submit(get_features, set_of_classes[0])\n",
    "    NEU_res = ex.submit(get_features, set_of_classes[1])\n",
    "    HAP_res = ex.submit(get_features, set_of_classes[2])\n",
    "    FEA_res = ex.submit(get_features, set_of_classes[3])\n",
    "    DIS_res = ex.submit(get_features, set_of_classes[4])\n",
    "    ANG_res = ex.submit(get_features, set_of_classes[5])\n",
    "\n",
    "\n"
   ]
  },
  {
   "cell_type": "code",
   "execution_count": 7,
   "metadata": {},
   "outputs": [
    {
     "name": "stdout",
     "output_type": "stream",
     "text": [
      "SADHAPNEUFEADISANG\n",
      "\n",
      "\n",
      "\n",
      "\n",
      "\n"
     ]
    },
    {
     "ename": "KeyboardInterrupt",
     "evalue": "",
     "output_type": "error",
     "traceback": [
      "\u001b[0;31m---------------------------------------------------------------------------\u001b[0m",
      "\u001b[0;31mKeyboardInterrupt\u001b[0m                         Traceback (most recent call last)",
      "\u001b[1;32m/home/shemetov@ad.speechpro.com/Desktop/testpy/task.ipynb Cell 24\u001b[0m in \u001b[0;36m<cell line: 77>\u001b[0;34m()\u001b[0m\n\u001b[1;32m     <a href='vscode-notebook-cell://ssh-remote%2Bshemetov-ls.ad.speechpro.com/home/shemetov%40ad.speechpro.com/Desktop/testpy/task.ipynb#ch0000023vscode-remote?line=80'>81</a>\u001b[0m     FEA_res \u001b[39m=\u001b[39m ex\u001b[39m.\u001b[39msubmit(get_features, set_of_classes[\u001b[39m3\u001b[39m])\n\u001b[1;32m     <a href='vscode-notebook-cell://ssh-remote%2Bshemetov-ls.ad.speechpro.com/home/shemetov%40ad.speechpro.com/Desktop/testpy/task.ipynb#ch0000023vscode-remote?line=81'>82</a>\u001b[0m     DIS_res \u001b[39m=\u001b[39m ex\u001b[39m.\u001b[39msubmit(get_features, set_of_classes[\u001b[39m4\u001b[39m])\n\u001b[0;32m---> <a href='vscode-notebook-cell://ssh-remote%2Bshemetov-ls.ad.speechpro.com/home/shemetov%40ad.speechpro.com/Desktop/testpy/task.ipynb#ch0000023vscode-remote?line=82'>83</a>\u001b[0m     ANG_res \u001b[39m=\u001b[39m ex\u001b[39m.\u001b[39msubmit(get_features, set_of_classes[\u001b[39m5\u001b[39m])\n\u001b[1;32m     <a href='vscode-notebook-cell://ssh-remote%2Bshemetov-ls.ad.speechpro.com/home/shemetov%40ad.speechpro.com/Desktop/testpy/task.ipynb#ch0000023vscode-remote?line=84'>85</a>\u001b[0m \u001b[39mprint\u001b[39m(\u001b[39m\"\u001b[39m\u001b[39mLBP Program is finished\u001b[39m\u001b[39m\"\u001b[39m)\n",
      "File \u001b[0;32m/usr/lib/python3.8/concurrent/futures/_base.py:644\u001b[0m, in \u001b[0;36mExecutor.__exit__\u001b[0;34m(self, exc_type, exc_val, exc_tb)\u001b[0m\n\u001b[1;32m    643\u001b[0m \u001b[39mdef\u001b[39;00m \u001b[39m__exit__\u001b[39m(\u001b[39mself\u001b[39m, exc_type, exc_val, exc_tb):\n\u001b[0;32m--> 644\u001b[0m     \u001b[39mself\u001b[39;49m\u001b[39m.\u001b[39;49mshutdown(wait\u001b[39m=\u001b[39;49m\u001b[39mTrue\u001b[39;49;00m)\n\u001b[1;32m    645\u001b[0m     \u001b[39mreturn\u001b[39;00m \u001b[39mFalse\u001b[39;00m\n",
      "File \u001b[0;32m/usr/lib/python3.8/concurrent/futures/process.py:686\u001b[0m, in \u001b[0;36mProcessPoolExecutor.shutdown\u001b[0;34m(self, wait)\u001b[0m\n\u001b[1;32m    684\u001b[0m     \u001b[39mself\u001b[39m\u001b[39m.\u001b[39m_queue_management_thread_wakeup\u001b[39m.\u001b[39mwakeup()\n\u001b[1;32m    685\u001b[0m     \u001b[39mif\u001b[39;00m wait:\n\u001b[0;32m--> 686\u001b[0m         \u001b[39mself\u001b[39;49m\u001b[39m.\u001b[39;49m_queue_management_thread\u001b[39m.\u001b[39;49mjoin()\n\u001b[1;32m    687\u001b[0m \u001b[39m# To reduce the risk of opening too many files, remove references to\u001b[39;00m\n\u001b[1;32m    688\u001b[0m \u001b[39m# objects that use file descriptors.\u001b[39;00m\n\u001b[1;32m    689\u001b[0m \u001b[39mself\u001b[39m\u001b[39m.\u001b[39m_queue_management_thread \u001b[39m=\u001b[39m \u001b[39mNone\u001b[39;00m\n",
      "File \u001b[0;32m/usr/lib/python3.8/threading.py:1011\u001b[0m, in \u001b[0;36mThread.join\u001b[0;34m(self, timeout)\u001b[0m\n\u001b[1;32m   1008\u001b[0m     \u001b[39mraise\u001b[39;00m \u001b[39mRuntimeError\u001b[39;00m(\u001b[39m\"\u001b[39m\u001b[39mcannot join current thread\u001b[39m\u001b[39m\"\u001b[39m)\n\u001b[1;32m   1010\u001b[0m \u001b[39mif\u001b[39;00m timeout \u001b[39mis\u001b[39;00m \u001b[39mNone\u001b[39;00m:\n\u001b[0;32m-> 1011\u001b[0m     \u001b[39mself\u001b[39;49m\u001b[39m.\u001b[39;49m_wait_for_tstate_lock()\n\u001b[1;32m   1012\u001b[0m \u001b[39melse\u001b[39;00m:\n\u001b[1;32m   1013\u001b[0m     \u001b[39m# the behavior of a negative timeout isn't documented, but\u001b[39;00m\n\u001b[1;32m   1014\u001b[0m     \u001b[39m# historically .join(timeout=x) for x<0 has acted as if timeout=0\u001b[39;00m\n\u001b[1;32m   1015\u001b[0m     \u001b[39mself\u001b[39m\u001b[39m.\u001b[39m_wait_for_tstate_lock(timeout\u001b[39m=\u001b[39m\u001b[39mmax\u001b[39m(timeout, \u001b[39m0\u001b[39m))\n",
      "File \u001b[0;32m/usr/lib/python3.8/threading.py:1027\u001b[0m, in \u001b[0;36mThread._wait_for_tstate_lock\u001b[0;34m(self, block, timeout)\u001b[0m\n\u001b[1;32m   1025\u001b[0m \u001b[39mif\u001b[39;00m lock \u001b[39mis\u001b[39;00m \u001b[39mNone\u001b[39;00m:  \u001b[39m# already determined that the C code is done\u001b[39;00m\n\u001b[1;32m   1026\u001b[0m     \u001b[39massert\u001b[39;00m \u001b[39mself\u001b[39m\u001b[39m.\u001b[39m_is_stopped\n\u001b[0;32m-> 1027\u001b[0m \u001b[39melif\u001b[39;00m lock\u001b[39m.\u001b[39;49macquire(block, timeout):\n\u001b[1;32m   1028\u001b[0m     lock\u001b[39m.\u001b[39mrelease()\n\u001b[1;32m   1029\u001b[0m     \u001b[39mself\u001b[39m\u001b[39m.\u001b[39m_stop()\n",
      "\u001b[0;31mKeyboardInterrupt\u001b[0m: "
     ]
    }
   ],
   "source": [
    "#extract LBP features. Fast version with threads\n",
    "\n",
    "import cv2\n",
    "import numpy as np\n",
    "from matplotlib import pyplot as plt\n",
    "\n",
    "def get_pixel(img, center, x, y):\n",
    "\tnew_value = 0\n",
    "\ttry:\n",
    "\t\tif img[x][y] >= center:\n",
    "\t\t\tnew_value = 1\n",
    "\texcept:\n",
    "\t\tpass\n",
    "\n",
    "\treturn new_value\n",
    "\n",
    "# Function for calculating LBP\n",
    "def lbp_calculated_pixel(img, x, y):\n",
    "\tcenter = img[x][y]\n",
    "\tval_ar = []\n",
    "\n",
    "\tval_ar.append(get_pixel(img, center, x-1, y-1))\n",
    "\t\n",
    "\tval_ar.append(get_pixel(img, center, x-1, y))\n",
    "\t\n",
    "\tval_ar.append(get_pixel(img, center, x-1, y + 1))\n",
    "\n",
    "\tval_ar.append(get_pixel(img, center, x, y + 1))\n",
    "\t\n",
    "\tval_ar.append(get_pixel(img, center, x + 1, y + 1))\n",
    "\t\n",
    "\tval_ar.append(get_pixel(img, center, x + 1, y))\n",
    "\t\n",
    "\tval_ar.append(get_pixel(img, center, x + 1, y-1))\n",
    "\t\n",
    "\tval_ar.append(get_pixel(img, center, x, y-1))\n",
    "\t\n",
    "\tpower_val = [1, 2, 4, 8, 16, 32, 64, 128]\n",
    "\n",
    "\tval = 0\n",
    "\t\n",
    "\tfor i in range(len(val_ar)):\n",
    "\t\tval += val_ar[i] * power_val[i]\n",
    "\t\t\n",
    "\treturn val\n",
    "\n",
    "\n",
    "def LBP(img):\n",
    "    height, width = 128,128\n",
    "    img_lbp = np.zeros((height, width),\n",
    "\t\t\t\tnp.uint8)\n",
    "    for i in range(0, height):\n",
    "        for j in range(0, width):\n",
    "            img_lbp[i, j] = lbp_calculated_pixel(img, i, j)\n",
    "    return img_lbp\n",
    "\n",
    "def get_features(file_path):\n",
    "    #s = start_time()\n",
    "    X_data = []\n",
    "    y_data = []\n",
    "    count = 0\n",
    "    print(file_path)\n",
    "    list_of_files = sorted(glob.glob('./CREMA-D/FaceClass/' + file_path + '/*.jpg'))\n",
    "\n",
    "    for image_path in list_of_files:\n",
    "        if count % 1000 == 999:\n",
    "            print(file_path,\" - \", count)\n",
    "        gray = cv2.imread(image_path,cv2.IMREAD_GRAYSCALE)\n",
    "        arr_img = LBP(gray)\n",
    "        X_data.append(arr_img)\n",
    "        y_data.append(file_path)\n",
    "        count += 1\n",
    "\n",
    "    return X_data, y_data\n",
    "\n",
    "\n",
    "with concurrent.futures.ProcessPoolExecutor(max_workers=6) as ex:\n",
    "    SAD_res = ex.submit(get_features, set_of_classes[0])\n",
    "    NEU_res = ex.submit(get_features, set_of_classes[1])\n",
    "    HAP_res = ex.submit(get_features, set_of_classes[2])\n",
    "    FEA_res = ex.submit(get_features, set_of_classes[3])\n",
    "    DIS_res = ex.submit(get_features, set_of_classes[4])\n",
    "    ANG_res = ex.submit(get_features, set_of_classes[5])\n",
    "\n",
    "print(\"LBP Program is finished\")\n"
   ]
  },
  {
   "cell_type": "code",
   "execution_count": 4,
   "metadata": {},
   "outputs": [],
   "source": [
    "#reference to dirs where we want to save our dataframes\n",
    "filepath = '/home/shemetov@ad.speechpro.com/Desktop/testpy/lbp_features_SAD'\n",
    "filepath1 = '/home/shemetov@ad.speechpro.com/Desktop/testpy/lbp_features_NEU'\n",
    "filepath2 = '/home/shemetov@ad.speechpro.com/Desktop/testpy/lbp_features_DIS'\n",
    "filepath3 = '/home/shemetov@ad.speechpro.com/Desktop/testpy/lbp_features_FEA'\n",
    "filepath4 = '/home/shemetov@ad.speechpro.com/Desktop/testpy/lbp_features_ANG'\n",
    "filepath5 = '/home/shemetov@ad.speechpro.com/Desktop/testpy/lbp_features_HAP'\n",
    "filepaths = [filepath,filepath1,filepath2,filepath3,filepath4,filepath5]"
   ]
  },
  {
   "cell_type": "code",
   "execution_count": 6,
   "metadata": {},
   "outputs": [],
   "source": [
    "#create DataFrames for each emotion\n",
    "df_SAD = pd.DataFrame(columns = ['Features', 'Labels'])\n",
    "df_NEU = pd.DataFrame(columns = ['Features', 'Labels'])\n",
    "df_DIS = pd.DataFrame(columns = ['Features', 'Labels'])\n",
    "df_FEA = pd.DataFrame(columns = ['Features', 'Labels'])\n",
    "df_ANG = pd.DataFrame(columns = ['Features', 'Labels'])\n",
    "df_HAP = pd.DataFrame(columns = ['Features', 'Labels'])\n",
    "\n",
    "#df.to_pickle(filepath)\n",
    "df_SAD.to_pickle(filepath)\n",
    "df_NEU.to_pickle(filepath1)\n",
    "df_DIS.to_pickle(filepath2)\n",
    "df_FEA.to_pickle(filepath3)\n",
    "df_ANG.to_pickle(filepath4)\n",
    "df_HAP.to_pickle(filepath5)"
   ]
  },
  {
   "cell_type": "code",
   "execution_count": 7,
   "metadata": {},
   "outputs": [],
   "source": [
    "#Add result of LBP extraction to DataFrames\n",
    "df_SAD = df_SAD.append({'Features':SAD_res.result()[0],'Labels':SAD_res.result()[1]},ignore_index=True)\n",
    "df_NEU = df_NEU.append({'Features':NEU_res.result()[0],'Labels':NEU_res.result()[1]},ignore_index=True)\n",
    "df_DIS = df_DIS.append({'Features':HAP_res.result()[0],'Labels':HAP_res.result()[1]},ignore_index=True)\n",
    "df_FEA = df_FEA.append({'Features':FEA_res.result()[0],'Labels':FEA_res.result()[1]},ignore_index=True)\n",
    "df_ANG = df_ANG.append({'Features':DIS_res.result()[0],'Labels':DIS_res.result()[1]},ignore_index=True)\n",
    "df_HAP = df_HAP.append({'Features':ANG_res.result()[0],'Labels':ANG_res.result()[1]},ignore_index=True)\n",
    "#df.to_pickle(filepath)"
   ]
  },
  {
   "cell_type": "markdown",
   "metadata": {},
   "source": [
    "Формируем датасет из признаков LBP для обучения"
   ]
  },
  {
   "cell_type": "code",
   "execution_count": 13,
   "metadata": {},
   "outputs": [],
   "source": [
    "filepath = '/home/shemetov@ad.speechpro.com/Desktop/testpy/lbp_features_SAD'\n",
    "filepath1 = '/home/shemetov@ad.speechpro.com/Desktop/testpy/lbp_features_NEU'\n",
    "filepath2 = '/home/shemetov@ad.speechpro.com/Desktop/testpy/lbp_features_DIS'\n",
    "filepath3 = '/home/shemetov@ad.speechpro.com/Desktop/testpy/lbp_features_FEA'\n",
    "filepath4 = '/home/shemetov@ad.speechpro.com/Desktop/testpy/lbp_features_ANG'\n",
    "filepath5 = '/home/shemetov@ad.speechpro.com/Desktop/testpy/lbp_features_HAP'\n",
    "filepaths = [filepath,filepath1,filepath2,filepath3,filepath4,filepath5]"
   ]
  },
  {
   "cell_type": "code",
   "execution_count": 14,
   "metadata": {},
   "outputs": [
    {
     "name": "stdout",
     "output_type": "stream",
     "text": [
      "57052\n",
      "57051\n",
      "torch.Size([1, 128, 128])\n"
     ]
    }
   ],
   "source": [
    "extractor = None\n",
    "le = sklearn.preprocessing.LabelEncoder()\n",
    "le = le.fit(set_of_classes)\n",
    "\n",
    "data = ImageDataset(dir_paths=filepaths,labels=set_of_classes,le=le,extractor=extractor)\n",
    "print(len(data))\n",
    "print(int(len(data) * 0.8) + int(len(data) * 0.2))\n",
    "print(np.shape(next(iter(data))[0]))\n",
    "train, test = torch.utils.data.random_split(data,[int(len(data) * 0.8)+1,int(len(data) * 0.2)])\n",
    "train_set = torch.utils.data.DataLoader(train, batch_size=4, shuffle=True)\n",
    "test_set = torch.utils.data.DataLoader(test, batch_size=32, shuffle=False)"
   ]
  },
  {
   "cell_type": "code",
   "execution_count": 15,
   "metadata": {},
   "outputs": [],
   "source": [
    "class CNN(nn.Module):\n",
    "    def __init__(self, in_channels = 1, out_channels = 128, kernel_size = 5):\n",
    "        super().__init__()\n",
    "        self.conv1 = nn.Conv2d(in_channels, out_channels, kernel_size)\n",
    "        self.bn1 = nn.BatchNorm2d(out_channels)\n",
    "        self.pool = nn.MaxPool2d(2, 2)\n",
    "        self.conv2 = nn.Conv2d(out_channels, out_channels * 2, 5)\n",
    "        self.fc1 = nn.Linear(215296, 120)\n",
    "        self.fc2 = nn.Linear(120, 84)\n",
    "        self.fc3 = nn.Linear(84, 6)\n",
    "        \n",
    "    def forward(self, x):\n",
    "        x = self.pool(F.relu(self.bn1(self.conv1(x))))\n",
    "        x = self.pool(F.relu(self.conv2(x)))\n",
    "        x = torch.flatten(x, 1) # flatten all dimensions except batch\n",
    "        x = F.relu(self.fc1(x))\n",
    "        x = F.relu(self.fc2(x))\n",
    "        x = self.fc3(x)\n",
    "        return x\n",
    "    \n",
    "device = torch.device(\"cuda\" if torch.cuda.is_available() else \"cpu\")\n",
    "model = CNN().to(device)"
   ]
  },
  {
   "cell_type": "markdown",
   "metadata": {},
   "source": [
    "##Первая модель(неиспоьузется)"
   ]
  },
  {
   "cell_type": "code",
   "execution_count": 58,
   "metadata": {},
   "outputs": [],
   "source": [
    "class CNNet(nn.Module):\n",
    "    def __init__(self, in_channels = 1,out_channels = 128,kernel_size = 5):\n",
    "        super().__init__()\n",
    "        self.conv1 = nn.Conv2d(in_channels, out_channels, kernel_size)\n",
    "        self.bn1 = nn.BatchNorm2d(out_channels)\n",
    "        self.pool1 = nn.MaxPool2d(2,2)\n",
    "        self.drop1 = nn.Dropout(0.5)\n",
    "        self.conv2 = nn.Conv2d(out_channels, out_channels, 3)\n",
    "        self.pool2 = nn.MaxPool2d(2,2)\n",
    "        self.drop2 = nn.Dropout(0.5)\n",
    "        self.conv3 = nn.Conv2d(out_channels, 2 * out_channels, 3)\n",
    "        self.bn3 = nn.BatchNorm2d(2 * out_channels)\n",
    "        self.drop3 = nn.Dropout(0.2)\n",
    "        self.pool3 = nn.MaxPool2d(2,2)\n",
    "        self.conv4 = nn.Conv2d(2 * out_channels, 2 * out_channels, 3)\n",
    "        self.bn4 = nn.BatchNorm2d(2 * out_channels)\n",
    "        self.drop4 = nn.Dropout(0.2)\n",
    "        self.pool4 = nn.MaxPool2d(2,2)\n",
    "        self.flatten = nn.Flatten()\n",
    "        self.fc1 = nn.Linear(50176, 64)\n",
    "        self.fc2 = nn.Linear(64, 64)\n",
    "        self.fc3 = nn.Linear(64, 6)\n",
    "\n",
    "\n",
    "    def forward(self, x):\n",
    "        x = F.relu(self.pool1(self.conv1(x)))\n",
    "        x = F.relu(self.pool2(self.conv2(x)))\n",
    "        x = F.relu(self.pool3(self.conv3(x)))\n",
    "        x = self.flatten(x)\n",
    "        x = F.relu(self.fc1(x))\n",
    "        x = F.relu(self.fc2(x))\n",
    "        x = F.relu(self.fc3(x))\n",
    "        return F.log_softmax(x,dim=1)  \n",
    "\n",
    "device = torch.device(\"cuda\" if torch.cuda.is_available() else \"cpu\")\n",
    "model = CNNet().to(device)"
   ]
  },
  {
   "cell_type": "code",
   "execution_count": 57,
   "metadata": {},
   "outputs": [
    {
     "name": "stdout",
     "output_type": "stream",
     "text": [
      "cuda\n"
     ]
    }
   ],
   "source": [
    "def conv_block(in_channels, out_channels, pool=False):\n",
    "    layers = [nn.Conv2d(in_channels, out_channels, kernel_size=3, padding=1), \n",
    "              nn.BatchNorm2d(out_channels), \n",
    "              nn.ELU(inplace=True)]\n",
    "    if pool: layers.append(nn.MaxPool2d(2))\n",
    "    return nn.Sequential(*layers)\n",
    "\n",
    "class ResNet(nn.Module):\n",
    "    def __init__(self, in_channels, num_classes):\n",
    "        super().__init__()\n",
    "        \n",
    "        self.conv1 = conv_block(in_channels, 128)\n",
    "        self.conv2 = conv_block(128, 128, pool=True)\n",
    "        self.res1 = nn.Sequential(conv_block(128, 128), conv_block(128, 128))\n",
    "        self.drop1 = nn.Dropout(0.5)\n",
    "        \n",
    "        self.conv3 = conv_block(128, 256)\n",
    "        self.conv4 = conv_block(256, 256, pool=True)\n",
    "        self.res2 = nn.Sequential(conv_block(256, 256), conv_block(256, 256))\n",
    "        self.drop2 = nn.Dropout(0.5)\n",
    "        \n",
    "        self.conv5 = conv_block(256, 512)\n",
    "        self.conv6 = conv_block(512, 512, pool=True)\n",
    "        self.res3 = nn.Sequential(conv_block(512, 512), conv_block(512, 512))\n",
    "        self.drop3 = nn.Dropout(0.5)\n",
    "        \n",
    "        self.classifier = nn.Sequential(nn.MaxPool2d(6), \n",
    "                                        nn.Flatten(),\n",
    "                                        nn.Linear(2048, num_classes))\n",
    "        \n",
    "    def forward(self, xb):\n",
    "        out = self.conv1(xb)\n",
    "        out = self.conv2(out)\n",
    "        out = self.res1(out) + out\n",
    "        out = self.drop1(out)\n",
    "        \n",
    "        out = self.conv3(out)\n",
    "        out = self.conv4(out)\n",
    "        out = self.res2(out) + out\n",
    "        out = self.drop2(out)\n",
    "        \n",
    "        out = self.conv5(out)\n",
    "        out = self.conv6(out)\n",
    "        out = self.res3(out) + out\n",
    "        out = self.drop3(out)\n",
    "        \n",
    "        out = self.classifier(out)\n",
    "        return out\n",
    "\n",
    "device = torch.device(\"cuda\" if torch.cuda.is_available() else \"cpu\")\n",
    "print(device)\n",
    "model = ResNet(1,6).to(device)"
   ]
  },
  {
   "cell_type": "code",
   "execution_count": 44,
   "metadata": {},
   "outputs": [],
   "source": [
    "import torch.optim as optim\n",
    "\n",
    "criterion = nn.CrossEntropyLoss()\n",
    "optimizer = optim.Adam(model.parameters(), lr=0.008, weight_decay= 0.0001)"
   ]
  },
  {
   "cell_type": "code",
   "execution_count": 20,
   "metadata": {},
   "outputs": [],
   "source": [
    "import torch.optim as optim\n",
    "\n",
    "criterion = nn.CrossEntropyLoss()\n",
    "optimizer = optim.SGD(model.parameters(), lr=0.001, momentum=0.9)"
   ]
  },
  {
   "cell_type": "code",
   "execution_count": null,
   "metadata": {},
   "outputs": [],
   "source": [
    "#Training model\n",
    "\n",
    "for epoch in range(2):  # loop over the dataset multiple times\n",
    "\n",
    "    running_loss = 0.0\n",
    "    for i, data in tqdm(enumerate(train_set, 0)):\n",
    "        # get the inputs; data is a list of [inputs, labels]\n",
    "        inputs, labels = data\n",
    "        inputs, labels = inputs.to(device), labels.to(device)\n",
    "        # zero the parameter gradients\n",
    "        optimizer.zero_grad()\n",
    "\n",
    "        # forward + backward + optimize\n",
    "        outputs = model(inputs)\n",
    "        loss = criterion(outputs, labels)\n",
    "        loss.backward()\n",
    "        optimizer.step()\n",
    "\n",
    "        # print statistics\n",
    "        running_loss += loss.item()\n",
    "        if i % 2000 == 1999:    # print every 2000 mini-batches\n",
    "            print(f'[{epoch + 1}, {i + 1:5d}] loss: {running_loss / 1000:.3f}')\n",
    "            running_loss = 0.0\n",
    "    #print('loss:', sum(running_loss)/len(running_loss))\n",
    "\n",
    "print('Finished Training')"
   ]
  },
  {
   "cell_type": "code",
   "execution_count": 23,
   "metadata": {},
   "outputs": [],
   "source": [
    "#save model for future\n",
    "torch.save(model, '/home/shemetov@ad.speechpro.com/Desktop/testpy/model')"
   ]
  },
  {
   "cell_type": "code",
   "execution_count": 16,
   "metadata": {},
   "outputs": [],
   "source": [
    "model = torch.load('/home/shemetov@ad.speechpro.com/Desktop/testpy/model')"
   ]
  },
  {
   "cell_type": "code",
   "execution_count": 17,
   "metadata": {},
   "outputs": [
    {
     "name": "stderr",
     "output_type": "stream",
     "text": [
      "100%|██████████| 357/357 [00:06<00:00, 52.39it/s]\n"
     ]
    },
    {
     "name": "stdout",
     "output_type": "stream",
     "text": [
      "metrics: acc: 0.9757230499561788 0.9753961959838612 0.9756138376804229 0.9753374731341701\n"
     ]
    }
   ],
   "source": [
    "#Validation\n",
    "\n",
    "y_preds = None\n",
    "targets = None\n",
    "video_features_lbp = []\n",
    "video_pred_lbp = []\n",
    "model.eval()\n",
    "with torch.no_grad():\n",
    "  for inputs,target in tqdm(test_set):\n",
    "    video_pred_lbp.append(target)    \n",
    "    inputs = inputs.to(device)\n",
    "    output = model(inputs)\n",
    "    video_features_lbp.append(output.cpu())\n",
    "   #print(np.shape(output))\n",
    "    y_pred = output.argmax(dim=-1).to('cpu').detach().numpy()\n",
    "    #print(y_pred,target)\n",
    "    if y_preds is not None:\n",
    "            y_preds = np.concatenate([y_preds, y_pred])\n",
    "            targets  = np.concatenate([targets, target])\n",
    "    else:\n",
    "            y_preds = y_pred\n",
    "            targets = target\n",
    "f1 = sklearn.metrics.f1_score(targets, y_preds, average='macro')\n",
    "acc = sklearn.metrics.accuracy_score(targets, y_preds)\n",
    "precision = sklearn.metrics.precision_score(targets, y_preds, average='macro')\n",
    "recall = sklearn.metrics.recall_score(targets, y_preds, average='macro')\n",
    "print('metrics:', 'acc:', acc, f1, precision, recall)\n"
   ]
  },
  {
   "cell_type": "markdown",
   "metadata": {},
   "source": [
    "------------------------------- Аудио сектор ----------------------------------"
   ]
  },
  {
   "cell_type": "code",
   "execution_count": 50,
   "metadata": {},
   "outputs": [],
   "source": [
    "def mel(spec):\n",
    "    spec = 1125 * np.log(1 + spec/700)\n",
    "    return spec"
   ]
  },
  {
   "cell_type": "code",
   "execution_count": 51,
   "metadata": {},
   "outputs": [],
   "source": [
    "#Create Dataset with MFCC features for pytorch\n",
    "\n",
    "class WavDataset(torch.utils.data.Dataset):\n",
    "    \"\"\"Some Information about MyDataset\"\"\"\n",
    "    def __init__(self,dir_path = None, labels=None, le = None,  extractor = None):\n",
    "        super(WavDataset, self).__init__()\n",
    "        self.dir_path = dir_path\n",
    "        self.labels = labels\n",
    "        self.extractor = extractor\n",
    "        self.pad_size = 0\n",
    "        self.wav_files = []\n",
    "        self.set_of_labels = []\n",
    "        count = 0\n",
    "        if self.labels is not None:\n",
    "            for label in self.labels:\n",
    "                wav_paths = glob.glob(dir_path + label + '/*.wav')\n",
    "                len_wav_files = len(wav_paths)\n",
    "                label = list(le.transform([label]))\n",
    "                self.set_of_labels += label * len_wav_files\n",
    "                self.wav_files += wav_paths\n",
    "                for i in wav_paths:\n",
    "                    wav = torchaudio.load(i)[0][0]\n",
    "                    self.pad_size += len(wav)\n",
    "                    count += 1\n",
    "            self.pad_size = self.pad_size // count\n",
    "\n",
    "                \n",
    "            \n",
    "    def __getitem__(self, index):\n",
    "        start_time = time.time()\n",
    "        wav, sr =  torchaudio.load(self.wav_files[index])\n",
    "        label = self.set_of_labels[index]\n",
    "        if self.pad_size:\n",
    "            p = (self.pad_size - len(wav.flatten())) // 2 + 1\n",
    "            if p>0:\n",
    "                wav = torch.nn.functional.pad(wav, (p, p), value=0.0)\n",
    "            wav = wav[:, :self.pad_size]\n",
    "        if self.extractor is not None:\n",
    "            features = extractor(wav)\n",
    "        #print(\"debug __get_item__\",\"--- %s seconds ---\" % (time.time() - start_time))\n",
    "        return features, label\n",
    "\n",
    "    def __len__(self):\n",
    "        return len(self.wav_files)"
   ]
  },
  {
   "cell_type": "code",
   "execution_count": 52,
   "metadata": {},
   "outputs": [],
   "source": [
    "#Setting for MFCC\n",
    "\n",
    "n_fft = 2048\n",
    "win_length = None\n",
    "hop_length = 512\n",
    "n_mels = 256\n",
    "n_mfcc = 256\n",
    "\n",
    "mfcc_transform = T.MFCC(\n",
    "    n_mfcc=n_mfcc,\n",
    "    melkwargs={\n",
    "        \"n_fft\": n_fft,\n",
    "        \"n_mels\": n_mels,\n",
    "        \"hop_length\": hop_length,\n",
    "        \"mel_scale\": \"htk\",\n",
    "    },\n",
    ")\n",
    "\n",
    "\n"
   ]
  },
  {
   "cell_type": "code",
   "execution_count": 53,
   "metadata": {},
   "outputs": [
    {
     "name": "stdout",
     "output_type": "stream",
     "text": [
      "7442\n",
      "7441\n",
      "5\n"
     ]
    }
   ],
   "source": [
    "#Traind and val sets\n",
    "\n",
    "extractor = mfcc_transform\n",
    "le = sklearn.preprocessing.LabelEncoder()\n",
    "le = le.fit(set_of_classes)\n",
    "dir_path = '/home/shemetov@ad.speechpro.com/Desktop/testpy/CREMA-D/AudioClass/'\n",
    "\n",
    "data_wav = WavDataset(dir_path=dir_path,labels=set_of_classes,le=le,extractor=extractor)\n",
    "print(len(data_wav))\n",
    "print(int(len(data_wav) * 0.8) + int(len(data_wav) * 0.2))\n",
    "\n",
    "print(next(iter(data_wav))[1])\n",
    "train_wav, test_wav = torch.utils.data.random_split(data_wav,[int(len(data_wav) * 0.8)+1,int(len(data_wav) * 0.2)])\n",
    "train_set_wav = torch.utils.data.DataLoader(train_wav, batch_size=32, shuffle=True)\n",
    "test_set_wav = torch.utils.data.DataLoader(test_wav, batch_size=32, shuffle=False)"
   ]
  },
  {
   "cell_type": "code",
   "execution_count": 60,
   "metadata": {},
   "outputs": [],
   "source": [
    "class CNNet(nn.Module):\n",
    "    def __init__(self, in_channels = 1, out_channels = 128, kernel_size = 5):\n",
    "        super().__init__()\n",
    "        self.conv1 = nn.Conv2d(in_channels, out_channels, kernel_size)\n",
    "        self.bn1 = nn.BatchNorm2d(out_channels)\n",
    "        self.pool = nn.MaxPool2d(2, 2)\n",
    "        self.conv2 = nn.Conv2d(out_channels, out_channels * 2, 5)\n",
    "        self.fc1 = nn.Linear(265472, 128)\n",
    "        self.fc2 = nn.Linear(128, 84)\n",
    "        self.fc3 = nn.Linear(84, 6)\n",
    "        \n",
    "    def forward(self, x):\n",
    "        x = self.pool(F.relu(self.bn1(self.conv1(x))))\n",
    "        x = self.pool(F.relu(self.conv2(x)))\n",
    "        x = torch.flatten(x, 1) # flatten all dimensions except batch\n",
    "        x = F.relu(self.fc1(x))\n",
    "        x = F.relu(self.fc2(x))\n",
    "        x = self.fc3(x)\n",
    "        return x\n",
    "    \n",
    "device = torch.device(\"cuda\" if torch.cuda.is_available() else \"cpu\")\n",
    "model = CNNet().to(device)"
   ]
  },
  {
   "cell_type": "code",
   "execution_count": 55,
   "metadata": {},
   "outputs": [],
   "source": [
    "class CNNet(nn.Module):\n",
    "    def __init__(self, in_channels = 1,out_channels = 32,kernel_size = 5):\n",
    "        super().__init__()\n",
    "        self.conv1 = nn.Conv2d(in_channels, out_channels, kernel_size)\n",
    "        self.bn1 = nn.BatchNorm2d(out_channels)\n",
    "        self.pool1 = nn.MaxPool2d(2,2)\n",
    "        self.drop1 = nn.Dropout(0.2)\n",
    "        self.conv2 = nn.Conv2d(out_channels, out_channels, 3)\n",
    "        self.bn2 = nn.BatchNorm2d(out_channels)\n",
    "        self.pool2 = nn.MaxPool2d(2,2)\n",
    "        self.drop2 = nn.Dropout(0.2)\n",
    "        self.conv3 = nn.Conv2d(out_channels, 2 * out_channels, 3)\n",
    "        self.bn3 = nn.BatchNorm2d(2 * out_channels)\n",
    "        self.drop3 = nn.Dropout(0.2)\n",
    "        self.pool3 = nn.MaxPool2d(2,2)\n",
    "        self.conv4 = nn.Conv2d(2 * out_channels, 2 * out_channels, 3)\n",
    "        self.bn4 = nn.BatchNorm2d(2 * out_channels)\n",
    "        self.drop4 = nn.Dropout(0.2)\n",
    "        self.pool4 = nn.MaxPool2d(2,2)\n",
    "        self.flatten = nn.Flatten()\n",
    "        self.fc1 = nn.Linear(2688, 64)\n",
    "        self.fc2 = nn.Linear(64, 64)\n",
    "        self.fc3 = nn.Linear(64, 6)\n",
    "\n",
    "\n",
    "    def forward(self, x):\n",
    "        x = F.relu(self.pool1(self.bn1(self.conv1(x))))\n",
    "        x = self.drop1(x)\n",
    "        x = F.relu(self.pool2(self.bn2(self.conv2(x))))\n",
    "        x = self.drop2(x)\n",
    "        x = F.relu(self.pool3(self.bn3(self.conv3(x))))\n",
    "        x = self.drop3(x)\n",
    "        x = F.relu(self.pool4(self.bn4(self.conv4(x))))\n",
    "        x = self.drop4(x)\n",
    "        x = self.flatten(x)\n",
    "        x = F.relu(self.fc1(x))\n",
    "        x = F.relu(self.fc2(x))\n",
    "        x = F.relu(self.fc3(x))\n",
    "        return F.log_softmax(x,dim=1)  \n",
    "\n",
    "device = torch.device(\"cuda\" if torch.cuda.is_available() else \"cpu\")\n",
    "model = CNNet().to(device)"
   ]
  },
  {
   "cell_type": "code",
   "execution_count": 61,
   "metadata": {},
   "outputs": [],
   "source": [
    "import torch.optim as optim\n",
    "\n",
    "criterion = nn.CrossEntropyLoss()\n",
    "optimizer = optim.SGD(model.parameters(), lr=0.001, momentum=0.9)"
   ]
  },
  {
   "cell_type": "code",
   "execution_count": null,
   "metadata": {},
   "outputs": [],
   "source": [
    "from tqdm import tqdm\n",
    "\n",
    "for epoch in range(15):  # loop over the dataset multiple times\n",
    "\n",
    "    running_loss = 0.0\n",
    "    for i, data in tqdm(enumerate(train_set_wav, 0)):\n",
    "        # get the inputs; data is a list of [inputs, labels]\n",
    "        inputs, labels = data\n",
    "        inputs, labels = inputs.to(device), labels.to(device)\n",
    "        # zero the parameter gradients\n",
    "        optimizer.zero_grad()\n",
    "\n",
    "        # forward + backward + optimize\n",
    "        outputs = model(inputs)\n",
    "        loss = criterion(outputs, labels)\n",
    "        loss.backward()\n",
    "        optimizer.step()\n",
    "\n",
    "        # print statistics\n",
    "        running_loss += loss.item()\n",
    "        if i % 100 == 99:    # print every 2000 mini-batches\n",
    "            print(f'[{epoch + 1}, {i + 1:5d}] loss: {running_loss / 100:.3f}')\n",
    "            running_loss = 0.0\n",
    "    #print('loss:', sum(running_loss)/len(running_loss))\n",
    "\n",
    "print('Finished Training')"
   ]
  },
  {
   "cell_type": "code",
   "execution_count": 48,
   "metadata": {},
   "outputs": [],
   "source": [
    "torch.save(model, '/home/shemetov@ad.speechpro.com/Desktop/testpy/modelCNN')"
   ]
  },
  {
   "cell_type": "code",
   "execution_count": 57,
   "metadata": {},
   "outputs": [],
   "source": [
    "model = torch.load('/home/shemetov@ad.speechpro.com/Desktop/testpy/modelCNN')"
   ]
  },
  {
   "cell_type": "code",
   "execution_count": 63,
   "metadata": {},
   "outputs": [
    {
     "name": "stderr",
     "output_type": "stream",
     "text": [
      "100%|██████████| 47/47 [00:02<00:00, 17.71it/s]\n"
     ]
    }
   ],
   "source": [
    "y_pred = []\n",
    "y_test = []\n",
    "audio_features_mfcc = []\n",
    "audio_pred_mfcc = []\n",
    "model.eval()\n",
    "with torch.no_grad():\n",
    "  for inputs,target in tqdm(test_set_wav):\n",
    "    inputs = inputs.to(device)\n",
    "    audio_pred_mfcc.append(target)\n",
    "    y_test.extend(target.numpy())\n",
    "    output = model(inputs)\n",
    "    audio_features_mfcc.append(output.cpu())\n",
    "    #print(np.shape(output))\n",
    "    for idx, i in enumerate(output):\n",
    "      y_pred.append(torch.argmax(i).item())\n",
    "  "
   ]
  },
  {
   "cell_type": "code",
   "execution_count": 64,
   "metadata": {},
   "outputs": [
    {
     "name": "stdout",
     "output_type": "stream",
     "text": [
      "              precision    recall  f1-score   support\n",
      "\n",
      "           0       0.60      0.77      0.67       235\n",
      "           1       0.45      0.56      0.50       245\n",
      "           2       0.54      0.42      0.47       241\n",
      "           3       0.59      0.57      0.58       256\n",
      "           4       0.60      0.53      0.56       250\n",
      "           5       0.58      0.51      0.54       261\n",
      "\n",
      "    accuracy                           0.56      1488\n",
      "   macro avg       0.56      0.56      0.55      1488\n",
      "weighted avg       0.56      0.56      0.55      1488\n",
      "\n",
      "metrics: acc: 0.5571236559139785 f1: 0.5545697742847703 prec: 0.5598225099889815 recall: 0.558768491288896\n"
     ]
    }
   ],
   "source": [
    "print(classification_report(y_test, y_pred))\n",
    "f1 = sklearn.metrics.f1_score(y_test, y_pred, average='macro')\n",
    "acc = sklearn.metrics.accuracy_score(y_test, y_pred)\n",
    "precision = sklearn.metrics.precision_score(y_test, y_pred, average='macro')\n",
    "recall = sklearn.metrics.recall_score(y_test, y_pred, average='macro')\n",
    "print('metrics:', 'acc:',acc,'f1:',f1,'prec:',precision,'recall:',recall)"
   ]
  },
  {
   "cell_type": "markdown",
   "metadata": {},
   "source": [
    "##Объединение видеомодальности и аудиомодальности. Начало раздела"
   ]
  },
  {
   "cell_type": "code",
   "execution_count": null,
   "metadata": {},
   "outputs": [],
   "source": [
    "new_X = video_features_lbp + audio_features_mfcc\n",
    "new_y = video_pred_lbp + audio_pred_mfcc"
   ]
  },
  {
   "cell_type": "code",
   "execution_count": 72,
   "metadata": {},
   "outputs": [],
   "source": [
    "new_XX = []\n",
    "for i in range(len(new_X)):\n",
    "    for j in range(len(new_X[i])):\n",
    "        new_XX.append(new_X[i][j].tolist())\n",
    "        \n",
    "new_yy = []\n",
    "for i in range(len(new_y)):\n",
    "    for j in range(len(new_y[i])):\n",
    "        new_yy.append(new_y[i][j].tolist())"
   ]
  },
  {
   "cell_type": "code",
   "execution_count": 54,
   "metadata": {},
   "outputs": [
    {
     "name": "stdout",
     "output_type": "stream",
     "text": [
      "(249563, 6)\n",
      "3\n"
     ]
    }
   ],
   "source": [
    "print(np.shape(new_XX))\n",
    "print(new_yy[2])"
   ]
  },
  {
   "cell_type": "code",
   "execution_count": 55,
   "metadata": {},
   "outputs": [
    {
     "data": {
      "text/plain": [
       "Pipeline(steps=[('standardscaler', StandardScaler()),\n",
       "                ('svc', SVC(gamma='auto'))])"
      ]
     },
     "execution_count": 55,
     "metadata": {},
     "output_type": "execute_result"
    }
   ],
   "source": [
    "from sklearn.pipeline import make_pipeline\n",
    "from sklearn.svm import SVC\n",
    "\n",
    "clf = make_pipeline(StandardScaler(), SVC(gamma='auto'))\n",
    "clf.fit(new_XX,new_yy)"
   ]
  },
  {
   "cell_type": "code",
   "execution_count": 73,
   "metadata": {},
   "outputs": [
    {
     "data": {
      "text/plain": [
       "array([3, 3, 3, ..., 1, 5, 4])"
      ]
     },
     "execution_count": 73,
     "metadata": {},
     "output_type": "execute_result"
    }
   ],
   "source": [
    "y_preds = clf.predict(new_XX[200000:])\n",
    "y_preds"
   ]
  },
  {
   "cell_type": "code",
   "execution_count": 74,
   "metadata": {},
   "outputs": [
    {
     "name": "stdout",
     "output_type": "stream",
     "text": [
      "metrics: acc: 0.5093920868389726 0.37020686433960853 0.5492275895637287 0.40596049961328795\n"
     ]
    }
   ],
   "source": [
    "f1 = sklearn.metrics.f1_score(new_yy[200000:], y_preds, average='macro')\n",
    "acc = sklearn.metrics.accuracy_score(new_yy[200000:], y_preds)\n",
    "precision = sklearn.metrics.precision_score(new_yy[200000:], y_preds, average='macro')\n",
    "recall = sklearn.metrics.recall_score(new_yy[200000:], y_preds, average='macro')\n",
    "print('metrics:', 'acc:', acc, f1, precision, recall)"
   ]
  },
  {
   "cell_type": "markdown",
   "metadata": {},
   "source": [
    "##Объединение видеомодальности и аудиомодальности. Конец раздела"
   ]
  },
  {
   "cell_type": "code",
   "execution_count": 36,
   "metadata": {},
   "outputs": [],
   "source": [
    "#Create Dataset with OpenSmile features\n",
    "\n",
    "class WavSmileDataset(torch.utils.data.Dataset):\n",
    "    \"\"\"Some Information about MyDataset\"\"\"\n",
    "    def __init__(self,dir_path = None, smile = None, labels=None, le = None):\n",
    "        super(WavSmileDataset, self).__init__()\n",
    "        self.dir_path = dir_path\n",
    "        self.labels = labels\n",
    "        self.smile = smile\n",
    "        self.features = []\n",
    "        self.set_of_name_of_features = smile.feature_names\n",
    "        self.wav_files = []\n",
    "        self.features = []\n",
    "        self.set_of_labels = []\n",
    "        if self.labels is not None:\n",
    "            for label in self.labels:\n",
    "                wav_paths = glob.glob(dir_path + label + '/*.wav')\n",
    "                len_wav_files = len(wav_paths)\n",
    "                label = list(le.transform([label]))\n",
    "                self.set_of_labels += label * len_wav_files\n",
    "                self.wav_files += wav_paths\n",
    "        for i in tqdm(self.wav_files):\n",
    "            self.features.append(smile.process_file(i).values[0])\n",
    "\n",
    "                    \n",
    "\n",
    "    def __getitem__(self, index):\n",
    "        label = self.set_of_labels[index]\n",
    "        feature = self.features[index]\n",
    "        return feature, label\n",
    "\n",
    "    def __len__(self):\n",
    "        return len(self.wav_files)"
   ]
  },
  {
   "cell_type": "code",
   "execution_count": 37,
   "metadata": {},
   "outputs": [
    {
     "name": "stderr",
     "output_type": "stream",
     "text": [
      "100%|██████████| 7442/7442 [06:50<00:00, 18.14it/s]"
     ]
    },
    {
     "name": "stdout",
     "output_type": "stream",
     "text": [
      "7442\n",
      "7441\n",
      "5\n"
     ]
    },
    {
     "name": "stderr",
     "output_type": "stream",
     "text": [
      "\n"
     ]
    }
   ],
   "source": [
    "\n",
    "le = sklearn.preprocessing.LabelEncoder()\n",
    "le = le.fit(set_of_classes)\n",
    "dir_path = '/home/shemetov@ad.speechpro.com/Desktop/testpy/CREMA-D/AudioClass/'\n",
    "\n",
    "smile = opensmile.Smile(\n",
    "    feature_set=opensmile.FeatureSet.ComParE_2016,\n",
    "    feature_level=opensmile.FeatureLevel.Functionals,\n",
    ")\n",
    "\n",
    "data_smile = WavSmileDataset(dir_path=dir_path,labels=set_of_classes,le=le,smile=smile)\n",
    "print(len(data_smile))\n",
    "print(int(len(data_smile) * 0.8) + int(len(data_smile) * 0.2))\n",
    "\n",
    "print(next(iter(data_smile))[1])\n",
    "train_smile, test_smile = torch.utils.data.random_split(data_smile,[int(len(data_smile) * 0.8)+1,int(len(data_smile) * 0.2)])\n",
    "train_set_smile = torch.utils.data.DataLoader(train_smile, batch_size=32, shuffle=True)\n",
    "test_set_smile = torch.utils.data.DataLoader(test_smile, batch_size=32, shuffle=False)"
   ]
  },
  {
   "cell_type": "code",
   "execution_count": null,
   "metadata": {},
   "outputs": [],
   "source": [
    "sc = StandardScaler()\n",
    "X_train_set_smile = sc.fit_transform(next(iter(train_set_smile))[0])\n",
    "print(X_train_set_smile)\n",
    "print(next(iter(train_set_smile))[0])"
   ]
  },
  {
   "cell_type": "code",
   "execution_count": 38,
   "metadata": {},
   "outputs": [],
   "source": [
    "class FC(nn.Module):\n",
    "    def __init__(self):\n",
    "        super().__init__()\n",
    "        self.fc1 = nn.Linear(6373,128)\n",
    "        self.drop1 = nn.Dropout(0.2)\n",
    "        self.fc2 = nn.Linear(128,128)\n",
    "        self.drop2 = nn.Dropout(0.2)\n",
    "        self.fc3 = nn.Linear(128,84)\n",
    "        self.drop3 = nn.Dropout(0.2)\n",
    "        self.fc4 = nn.Linear(84,6)\n",
    "        \n",
    "        \n",
    "\n",
    "\n",
    "    def forward(self, x):\n",
    "        x = F.relu(self.fc1(x))\n",
    "        x = self.drop1(x)\n",
    "        x = F.relu(self.fc2(x))\n",
    "        x = self.drop2(x)\n",
    "        x = F.relu(self.fc3(x))\n",
    "        x = self.drop3(x)\n",
    "        x = self.fc4(x)\n",
    "        return F.log_softmax(x,dim=1)  \n",
    "\n",
    "device = torch.device(\"cuda\" if torch.cuda.is_available() else \"cpu\")\n",
    "modelFC = FC().to(device)"
   ]
  },
  {
   "cell_type": "code",
   "execution_count": 39,
   "metadata": {},
   "outputs": [],
   "source": [
    "import torch.optim as optim\n",
    "\n",
    "sc = StandardScaler()\n",
    "criterion = nn.CrossEntropyLoss()\n",
    "optimizer = optim.Adam(modelFC.parameters(), lr=0.001)"
   ]
  },
  {
   "cell_type": "code",
   "execution_count": null,
   "metadata": {},
   "outputs": [],
   "source": [
    "from tqdm import tqdm\n",
    "\n",
    "for epoch in range(50):  # loop over the dataset multiple times\n",
    "\n",
    "    running_loss = 0.0\n",
    "    for i, data in tqdm(enumerate(train_set_smile, 0)):\n",
    "        \n",
    "        inputs, labels = data\n",
    "        inputs = torch.FloatTensor(sc.fit_transform(inputs))\n",
    "        inputs, labels = inputs.to(device), labels.to(device)\n",
    "        optimizer.zero_grad()\n",
    "\n",
    "        outputs = modelFC(inputs)\n",
    "        loss = criterion(outputs, labels)\n",
    "        loss.backward()\n",
    "        optimizer.step()\n",
    "\n",
    "        running_loss += loss.item()\n",
    "        if i % 1000 ==999:\n",
    "            print(f'[{epoch + 1}, {i + 1:5d}] loss: {running_loss / 1000:.3f}')\n",
    "            running_loss = 0.0\n",
    "\n",
    "print('Finished Training')"
   ]
  },
  {
   "cell_type": "code",
   "execution_count": 41,
   "metadata": {},
   "outputs": [],
   "source": [
    "y_pred = []\n",
    "y_test = []\n",
    "audio_features_mfcc = []\n",
    "audio_pred_mfcc = []\n",
    "modelFC.eval()\n",
    "with torch.no_grad():\n",
    "  for inputs,target in test_set_smile:\n",
    "    audio_pred_mfcc.append(target)\n",
    "    inputs = torch.FloatTensor(sc.fit_transform(inputs))\n",
    "    inputs = inputs.to(device)\n",
    "    y_test.extend(target.numpy())\n",
    "    output = modelFC(inputs)\n",
    "    audio_features_mfcc.append(output.cpu())\n",
    "    for idx, i in enumerate(output):\n",
    "      y_pred.append(torch.argmax(i).item())"
   ]
  },
  {
   "cell_type": "code",
   "execution_count": 42,
   "metadata": {},
   "outputs": [
    {
     "name": "stdout",
     "output_type": "stream",
     "text": [
      "              precision    recall  f1-score   support\n",
      "\n",
      "           0       0.71      0.78      0.74       250\n",
      "           1       0.62      0.48      0.54       254\n",
      "           2       0.49      0.54      0.52       243\n",
      "           3       0.61      0.58      0.59       245\n",
      "           4       0.66      0.63      0.64       238\n",
      "           5       0.53      0.59      0.56       258\n",
      "\n",
      "    accuracy                           0.60      1488\n",
      "   macro avg       0.60      0.60      0.60      1488\n",
      "weighted avg       0.60      0.60      0.60      1488\n",
      "\n",
      "metrics: acc: 0.6008064516129032 f1: 0.6001046425847846 prec: 0.6036434994347634 recall: 0.6010412342971783\n"
     ]
    }
   ],
   "source": [
    "\n",
    "print(classification_report(y_test, y_pred))\n",
    "f1 = sklearn.metrics.f1_score(y_test, y_pred, average='macro')\n",
    "acc = sklearn.metrics.accuracy_score(y_test, y_pred)\n",
    "precision = sklearn.metrics.precision_score(y_test, y_pred, average='macro')\n",
    "recall = sklearn.metrics.recall_score(y_test, y_pred, average='macro')\n",
    "print('metrics:', 'acc:',acc,'f1:',f1,'prec:',precision,'recall:',recall)"
   ]
  }
 ],
 "metadata": {
  "kernelspec": {
   "display_name": "Python 3.8.10 64-bit",
   "language": "python",
   "name": "python3"
  },
  "language_info": {
   "codemirror_mode": {
    "name": "ipython",
    "version": 3
   },
   "file_extension": ".py",
   "mimetype": "text/x-python",
   "name": "python",
   "nbconvert_exporter": "python",
   "pygments_lexer": "ipython3",
   "version": "3.8.10"
  },
  "vscode": {
   "interpreter": {
    "hash": "916dbcbb3f70747c44a77c7bcd40155683ae19c65e1c03b4aa3499c5328201f1"
   }
  }
 },
 "nbformat": 4,
 "nbformat_minor": 4
}
